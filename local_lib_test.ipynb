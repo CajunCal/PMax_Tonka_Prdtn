{
 "cells": [
  {
   "cell_type": "code",
   "execution_count": 1,
   "id": "1ca2b3e1",
   "metadata": {},
   "outputs": [
    {
     "name": "stdout",
     "output_type": "stream",
     "text": [
      "Started the calling notebook.\n",
      "          Here in fct inenum...\n",
      "made it back to calling program.\n",
      "     for  1           1 is the answer.\n",
      "          Here in fct inenum...\n",
      "back again, for  2            2 is the answer\n",
      "          Here in fct inenum...\n",
      "last trip. for  3             3 is the answer\n"
     ]
    }
   ],
   "source": [
    "# powarrmaxlib test notebook\n",
    "import libtest\n",
    "from libtest import linenum\n",
    "print('Started the calling notebook.')\n",
    "lineid = 1\n",
    "printline = linenum(lineid)\n",
    "print('made it back to calling program.')\n",
    "print('     for ', lineid, ' ', printline)\n",
    "lineid = 2\n",
    "printline = linenum(lineid)\n",
    "print('back again, for ', lineid, '  ', printline)\n",
    "lineid = 3\n",
    "printline = linenum(lineid)\n",
    "print('last trip. for ', lineid, '   ', printline)\n"
   ]
  }
 ],
 "metadata": {
  "kernelspec": {
   "display_name": "Python 3 (ipykernel)",
   "language": "python",
   "name": "python3"
  },
  "language_info": {
   "codemirror_mode": {
    "name": "ipython",
    "version": 3
   },
   "file_extension": ".py",
   "mimetype": "text/x-python",
   "name": "python",
   "nbconvert_exporter": "python",
   "pygments_lexer": "ipython3",
   "version": "3.10.8"
  }
 },
 "nbformat": 4,
 "nbformat_minor": 5
}
