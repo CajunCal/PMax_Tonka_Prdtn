{
 "cells": [
  {
   "cell_type": "markdown",
   "id": "1ced9ff4",
   "metadata": {},
   "source": [
    "OptionGun03_Tonka\n",
    "Notebook created 12/07/22\n",
    "02/25/23 - Added many tickers.\n",
    "           Added files best_STO_mid and best_STO_long\n",
    "12/27/22 - Tested and running\n",
    "\n",
    "User Notes\n",
    "1. This program needs a user key from Darqube.com, which it uses to get real-time stock prices.\n",
    "   Go to the Darqube website get a user account and choose the free service. Then get your key.\n",
    "   Find the Dar_key line just below the \"User Parameters\" block in the cell below.\n",
    "   Enter it between the quotes on the line:  DAR_key = ''\n",
    "   \n",
    "2. OptionGun produces three csv files:\n",
    "     root_data.csv. This contains a list of all tickers, with real-time price at the time of execution, \n",
    "     and the netx Earnings Report date for each ticker, if available. DO NOT CHANGE THIS FILE.\n",
    "     all_optinos_suffix.csv. This file contains every option available for every ticker in the list. \n",
    "     best_options_short_suffix.csv. Best STO options that meet criteria and expiry < 50 days out.\n",
    "     best_options_mid_suffix.csv.   Best STO options that meet criteria and 50 days <= expiry < 150 days out.\n",
    "     best_options_long_suffix.csv   Best STO options that meet criteria and 150 days out <= expiry.\n",
    "     \n",
    "2. The parameters just under the \"User Parameters\" header block can be changed.\n",
    "    Add and remove ticker symbols from the TICKERS = list. Enclose each ticker Follow the format shown.\n",
    "    HIDE_TICKERS. You may want to collect option info for a ticker, but not see that ticker in best_file.csv.\n",
    "    Just put the ticker to be hidden in this list. \n",
    "    FILE_ID_TAG is the suffix that OptionGun will attach to all_options and best_options. You can change it at any time.\n",
    "    \n",
    "3. OptionGun needs about 2-3 seconds to get the option string for each ticker. For 100 tickers, it will take about 5 minutes.\n",
    "\n",
    "OptionGun Structure\n",
    "\n",
    "- HEADERS and CONSTANTS\n",
    "\n",
    "- Broker_Converter_Van - TEMPORARY here to get Vanguard report and produce trade_log_open for BTC offers.\n",
    "\n",
    "- GET OPTION DATA\n",
    "       - Get real-time price data from Darqube.\n",
    "       - Get option strings from yfinance.\n",
    "       - Get ER dates from yfinance.\n",
    "       - Parse option strings into common POWMax format.\n",
    "\n",
    "Future\n",
    "- Put_STO_Gun - Screen and select PSTO offers\n",
    "- Call_STO_Gun- Screen and select CSTO offers\n",
    "- Put_BTC_Gun - Screen and select PBTC offers\n",
    "- Call_BTC_Gun- Screen and select CBTC offers\n",
    "\n",
    "TODO 12/13/22\n",
    "1. Use new column lables to split broker_report into three.\n",
    "2. Delete fill-col headers. Replace with correct column headers.\n",
    "\n",
    "DONE 12/23/22\n",
    "12/23/23 - Added best_STO_LEAP. \n",
    "12/23/22 - Added XLOptionBoard to load best_STO and best_STO_LEAP\n"
   ]
  },
  {
   "cell_type": "code",
   "execution_count": 1,
   "id": "6c7b80ba",
   "metadata": {},
   "outputs": [],
   "source": [
    "# ****************\n",
    "#\n",
    "#Header and Constants\n",
    "#\n",
    "# *****************\n",
    "# Purpose - OptionGun downlaods option strings and ER dates from yahoo yfinance.\n",
    "#                It downloads real-time stock prices and company fundamental financial data from Darqube.\n",
    "#                It calculates metrics for options \n",
    "#                and selects options that score the best on these metrics: POW, ARR, PctOTM, and Expiry DaysOut.\n",
    "#\n",
    "# Started 11/11/19 from TQIRobot.03 with yfinance library\n",
    "#\n",
    "#   12/05/22 - Forked version for Tonka_Prdtn.\n",
    "#   12/05/22 - Added tickers with high Quant rating. Tightened limits for best_options.\n",
    "#   11/27/22 - Remove IEX. Now using Darqube for market data. Added many more tickers, approx. 150 total.\n",
    "#\n",
    "# *****************\n",
    "#\n",
    "# USER PARAMS\n",
    "# User can change these parameters as appropriate.\n",
    "#\n",
    "# *****************\n",
    "\n",
    "DAR_key = 'a5e6a13d876c4819ad02083f76ff22a3' # Get one from Darqube and enter it here, between the single quotes.\n",
    "\n",
    "TICKERS = ('URI', 'JEF', 'BSM', 'BGSF', 'CPA', 'STLD', 'AMR', 'UNVR', 'CVCO', 'HUBG', 'ACLS', 'ASRT', \\\n",
    "           'AFYA', 'SMCI', 'HDSN', 'VIST', 'VRNA', 'NWG', 'PINE', 'VIR', 'ASO', 'PERI', 'STRL', 'VPG', \\\n",
    "           'AAPL', 'ABBV', 'AFL', 'ADBE', 'AIG', 'AMD', 'AMT', 'AMZN', 'AOS', 'ARCC', 'ARNC', 'AVB', 'AVGO', \\\n",
    "           'AZO', 'BA', 'BAC', 'BBBY', 'BIIB', 'BNTX', 'CAG', 'CAT', 'CCI', 'CF', 'CL', \\\n",
    "           'CLX', 'CMCSA', 'CRM', 'CRWD', 'CSCO', 'CSX', 'CUBE', 'CVS', 'CVX', 'DAC', 'DDOG', \\\n",
    "           'DHI', 'DLR', 'DUK', 'DVN', 'EPAM', 'EPD', 'EPR', 'ET', 'EXPE', 'EXR', 'FAF', 'FANG', 'FDX', 'FLNG', \\\n",
    "           'FMS', 'FNF', 'FSLY', 'FSR', 'FYBR', 'GBX', 'GD', 'GIS', 'GLNG', 'GOOGL', 'GS', 'GSL', 'HD', 'HIW',\n",
    "           'HON', 'HR', 'HRB', 'IBM', 'INTC', 'IPI', 'IRM', 'JNJ', 'JPM', 'K', 'KO', 'LADR', 'LMT', 'LOW', \\\n",
    "           'LRCX', 'LYB', 'MA', 'MAN', 'MCK', 'META', 'MGA', 'MLM', 'MMM', 'MMP', 'MOS', 'MPW', \\\n",
    "           'MRK', 'MRNA', 'MRVL', 'MSFT', 'MU', 'NFLX', 'NKE', 'NKTR', 'NMM', 'NOW', 'NRG', 'NUE', 'NVDA', \\\n",
    "           'OKTA', 'ON', 'ORCC', 'PANW', 'PFE', 'PHM', 'PII', 'PLTR', 'PRU', 'PSA', 'PYPL', 'QCOM', 'RITM', \\\n",
    "           'RIVN', 'ROST', 'RTX', 'SB', 'SBLK', 'SBUX', 'SCHW', 'SKT', 'SNOW', 'SO', 'SPG', 'SPY', 'STAG', \\\n",
    "           'STWD', 'TSLA', 'TRV', 'TXN', 'TSCO', 'TSN', 'UHAL', 'UNP', 'UPS', 'USAC', 'V', 'VICI', 'VGT', 'VMW', \\\n",
    "           'VNOM', 'VOO', 'WMT', 'WSM', 'WFC', 'XOM', 'ZIM', 'ZS', 'CEG', 'CMG', 'LLY', 'MTCH', 'PGR', 'SEDG', \\\n",
    "           'TMUS', 'URI', 'AMP', 'EXC', 'PFG', 'WDC', 'DOCU', 'ASC', 'VLO', 'PD', 'MNSO', 'MOD', 'JXN')\n",
    "\n",
    "HIDE_TICKERS = ('AOS', 'FSLY', 'NOW', 'PLTR', 'TSLA', 'VNOM', 'RIVN', 'NKTR') # Keep these tickers for database, but do not show them in best_options, because you do not want to own them.  \n",
    "\n",
    "OPTION_PROFILES = ('Put_STO_Short', 'Put_STO_Mid', 'Put_STO_Long', 'Call_STO_Short', 'Call_STO_Mid', 'Call_STO_Long')\n",
    "FILE_ID_TAG       = '_Tonka'\n",
    "\n",
    "# *****************\n",
    "#\n",
    "# Import Libraries\n",
    "#\n",
    "# *****************\n",
    "\n",
    "import csv\n",
    "import copy\n",
    "import json\n",
    "import numpy as np\n",
    "import os\n",
    "import pandas as pd\n",
    "import requests   # for http requests\n",
    "import scipy\n",
    "from   scipy import stats\n",
    "from   scipy.stats import norm\n",
    "import time\n",
    "import yfinance as yf\n",
    "\n",
    "import datetime\n",
    "from   datetime import datetime\n",
    "from   datetime import date\n",
    "from   datetime import timedelta\n",
    "#from   datetime import fromtimestamp\n",
    "\n",
    "from   dateutil.relativedelta  import relativedelta\n",
    "from   yahoo_earnings_calendar import YahooEarningsCalendar\n",
    "\n",
    "#import investpy\n",
    "#import glob\n",
    "#import collections\n",
    "#from enum import Enum\n",
    "#import re     # re is regular expression. For searching strings.\n",
    "\n",
    "# *****************\n",
    "#\n",
    "# Flow Control\n",
    "# Internal Constants\n",
    "#\n",
    "# *****************\n",
    "\n",
    "update_root_data      = True  #skip WTI call if testing code. Just use synthetic WTI_dict instead.\n",
    "update_root_data_ER   = True  #skip call to yahoo calendar if testing code.\n",
    "update_option_data    = True  #skip calls to yfinance if testing code.\n",
    "\n",
    "\n",
    "\n",
    "\n",
    "DATE_FORMAT       = '%Y-%m-%d %H:%M:%S'\n",
    "\n",
    "TICKER_DELAY      = 0.020  # seconds between tickers for data requests.\n",
    "EXPIRY_DELAY      = 0.005\n",
    "\n",
    "MAX_DAYSOUT = 366.0  # This constant controls how many expiry strings are downloaded. Use low # to exclude BTOS and reduce ext. calls. Hi # includes BTOS.\n",
    "MIN_DAYSOUT = 3.0\n",
    "\n",
    "FEE_SPREAD = 0.75     # Fee in the bid/ask range.\n",
    "\n",
    "call_ticker_options = pd.DataFrame()\n",
    "put_ticker_options  = pd.DataFrame()\n",
    "ticker_options      = pd.DataFrame() # for a single ticker\n",
    "all_options         = pd.DataFrame() # includes options for all tickers. Do not use any limits or exclusions for all_options.\n",
    "good_options        = pd.DataFrame() # Has rankings for CSTO options and BTOs (CBTO).\n",
    "stats               = pd.DataFrame() # Not used now.\n",
    "options_open        = pd.DataFrame() # persistent file used by OptionCloser to recommend BTC offers.\n",
    "    \n"
   ]
  },
  {
   "cell_type": "code",
   "execution_count": null,
   "id": "c143b739",
   "metadata": {},
   "outputs": [],
   "source": []
  },
  {
   "cell_type": "code",
   "execution_count": 2,
   "id": "97cac6b7",
   "metadata": {},
   "outputs": [
    {
     "name": "stdout",
     "output_type": "stream",
     "text": [
      "start Darqube access at:   2023-02-25 09:49:38.485180   Done in  3.216666666666667  minutes.\n",
      "2023-02-25 09:50:54.827561\n",
      "today date =  25\n",
      "getting data for  URI  at time  2023-02-25 09:50:54.827561\n",
      "     yfinance call failed for expiry  2023-06-16\n",
      "     yfinance call failed for expiry  2023-09-15\n",
      "getting data for  JEF  at time  2023-02-25 09:50:58.811309\n",
      "getting data for  BSM  at time  2023-02-25 09:51:01.548552\n",
      "getting data for  BGSF  at time  2023-02-25 09:51:03.758410\n"
     ]
    },
    {
     "name": "stderr",
     "output_type": "stream",
     "text": [
      "C:\\Users\\richa\\AppData\\Local\\Temp\\ipykernel_308\\1674486151.py:82: FutureWarning: Behavior when concatenating bool-dtype and numeric-dtype arrays is deprecated; in a future version these will cast to object dtype (instead of coercing bools to numeric values). To retain the old behavior, explicitly cast bool-dtype arrays to numeric dtype.\n",
      "  put_ticker_options  = pd.concat([put_ticker_options,  option_data.puts],  sort = False, ignore_index = True)\n"
     ]
    },
    {
     "name": "stdout",
     "output_type": "stream",
     "text": [
      "getting data for  CPA  at time  2023-02-25 09:51:05.575875\n",
      "getting data for  STLD  at time  2023-02-25 09:51:07.416992\n",
      "     yfinance call failed for expiry  2023-08-18\n",
      "getting data for  AMR  at time  2023-02-25 09:51:09.833146\n",
      "getting data for  UNVR  at time  2023-02-25 09:51:12.668008\n"
     ]
    },
    {
     "name": "stderr",
     "output_type": "stream",
     "text": [
      "C:\\Users\\richa\\AppData\\Local\\Temp\\ipykernel_308\\1674486151.py:82: FutureWarning: Behavior when concatenating bool-dtype and numeric-dtype arrays is deprecated; in a future version these will cast to object dtype (instead of coercing bools to numeric values). To retain the old behavior, explicitly cast bool-dtype arrays to numeric dtype.\n",
      "  put_ticker_options  = pd.concat([put_ticker_options,  option_data.puts],  sort = False, ignore_index = True)\n"
     ]
    },
    {
     "name": "stdout",
     "output_type": "stream",
     "text": [
      "getting data for  CVCO  at time  2023-02-25 09:51:14.947742\n",
      "getting data for  HUBG  at time  2023-02-25 09:51:16.427239\n"
     ]
    },
    {
     "name": "stderr",
     "output_type": "stream",
     "text": [
      "C:\\Users\\richa\\AppData\\Local\\Temp\\ipykernel_308\\1674486151.py:82: FutureWarning: Behavior when concatenating bool-dtype and numeric-dtype arrays is deprecated; in a future version these will cast to object dtype (instead of coercing bools to numeric values). To retain the old behavior, explicitly cast bool-dtype arrays to numeric dtype.\n",
      "  put_ticker_options  = pd.concat([put_ticker_options,  option_data.puts],  sort = False, ignore_index = True)\n"
     ]
    },
    {
     "name": "stdout",
     "output_type": "stream",
     "text": [
      "getting data for  ACLS  at time  2023-02-25 09:51:18.415900\n",
      "getting data for  ASRT  at time  2023-02-25 09:51:20.704602\n"
     ]
    },
    {
     "name": "stderr",
     "output_type": "stream",
     "text": [
      "C:\\Users\\richa\\AppData\\Local\\Temp\\ipykernel_308\\1674486151.py:82: FutureWarning: Behavior when concatenating bool-dtype and numeric-dtype arrays is deprecated; in a future version these will cast to object dtype (instead of coercing bools to numeric values). To retain the old behavior, explicitly cast bool-dtype arrays to numeric dtype.\n",
      "  put_ticker_options  = pd.concat([put_ticker_options,  option_data.puts],  sort = False, ignore_index = True)\n"
     ]
    },
    {
     "name": "stdout",
     "output_type": "stream",
     "text": [
      "getting data for  AFYA  at time  2023-02-25 09:51:23.397379\n"
     ]
    },
    {
     "name": "stderr",
     "output_type": "stream",
     "text": [
      "C:\\Users\\richa\\AppData\\Local\\Temp\\ipykernel_308\\1674486151.py:82: FutureWarning: Behavior when concatenating bool-dtype and numeric-dtype arrays is deprecated; in a future version these will cast to object dtype (instead of coercing bools to numeric values). To retain the old behavior, explicitly cast bool-dtype arrays to numeric dtype.\n",
      "  put_ticker_options  = pd.concat([put_ticker_options,  option_data.puts],  sort = False, ignore_index = True)\n"
     ]
    },
    {
     "name": "stdout",
     "output_type": "stream",
     "text": [
      "getting data for  SMCI  at time  2023-02-25 09:51:24.855987\n",
      "getting data for  HDSN  at time  2023-02-25 09:51:27.346846\n"
     ]
    },
    {
     "name": "stderr",
     "output_type": "stream",
     "text": [
      "C:\\Users\\richa\\AppData\\Local\\Temp\\ipykernel_308\\1674486151.py:82: FutureWarning: Behavior when concatenating bool-dtype and numeric-dtype arrays is deprecated; in a future version these will cast to object dtype (instead of coercing bools to numeric values). To retain the old behavior, explicitly cast bool-dtype arrays to numeric dtype.\n",
      "  put_ticker_options  = pd.concat([put_ticker_options,  option_data.puts],  sort = False, ignore_index = True)\n"
     ]
    },
    {
     "name": "stdout",
     "output_type": "stream",
     "text": [
      "getting data for  VIST  at time  2023-02-25 09:51:29.252387\n"
     ]
    },
    {
     "name": "stderr",
     "output_type": "stream",
     "text": [
      "C:\\Users\\richa\\AppData\\Local\\Temp\\ipykernel_308\\1674486151.py:82: FutureWarning: Behavior when concatenating bool-dtype and numeric-dtype arrays is deprecated; in a future version these will cast to object dtype (instead of coercing bools to numeric values). To retain the old behavior, explicitly cast bool-dtype arrays to numeric dtype.\n",
      "  put_ticker_options  = pd.concat([put_ticker_options,  option_data.puts],  sort = False, ignore_index = True)\n"
     ]
    },
    {
     "name": "stdout",
     "output_type": "stream",
     "text": [
      "getting data for  VRNA  at time  2023-02-25 09:51:31.571611\n",
      "getting data for  NWG  at time  2023-02-25 09:51:33.192646\n",
      "getting data for  PINE  at time  2023-02-25 09:51:34.671917\n",
      "getting data for  VIR  at time  2023-02-25 09:51:36.131177\n",
      "getting data for  ASO  at time  2023-02-25 09:51:38.488115\n"
     ]
    },
    {
     "name": "stderr",
     "output_type": "stream",
     "text": [
      "C:\\Users\\richa\\AppData\\Local\\Temp\\ipykernel_308\\1674486151.py:82: FutureWarning: Behavior when concatenating bool-dtype and numeric-dtype arrays is deprecated; in a future version these will cast to object dtype (instead of coercing bools to numeric values). To retain the old behavior, explicitly cast bool-dtype arrays to numeric dtype.\n",
      "  put_ticker_options  = pd.concat([put_ticker_options,  option_data.puts],  sort = False, ignore_index = True)\n"
     ]
    },
    {
     "name": "stdout",
     "output_type": "stream",
     "text": [
      "getting data for  PERI  at time  2023-02-25 09:51:42.673733\n"
     ]
    },
    {
     "name": "stderr",
     "output_type": "stream",
     "text": [
      "C:\\Users\\richa\\AppData\\Local\\Temp\\ipykernel_308\\1674486151.py:82: FutureWarning: Behavior when concatenating bool-dtype and numeric-dtype arrays is deprecated; in a future version these will cast to object dtype (instead of coercing bools to numeric values). To retain the old behavior, explicitly cast bool-dtype arrays to numeric dtype.\n",
      "  put_ticker_options  = pd.concat([put_ticker_options,  option_data.puts],  sort = False, ignore_index = True)\n"
     ]
    },
    {
     "name": "stdout",
     "output_type": "stream",
     "text": [
      "getting data for  STRL  at time  2023-02-25 09:51:45.006638\n",
      "getting data for  VPG  at time  2023-02-25 09:51:46.807180\n",
      "getting data for  AAPL  at time  2023-02-25 09:51:48.278201\n",
      "getting data for  ABBV  at time  2023-02-25 09:51:54.661188\n",
      "getting data for  AFL  at time  2023-02-25 09:51:59.055235\n",
      "getting data for  ADBE  at time  2023-02-25 09:52:03.099324\n",
      "getting data for  AIG  at time  2023-02-25 09:52:07.555130\n",
      "getting data for  AMD  at time  2023-02-25 09:52:11.767641\n",
      "getting data for  AMT  at time  2023-02-25 09:52:16.537301\n",
      "getting data for  AMZN  at time  2023-02-25 09:52:18.917160\n",
      "getting data for  AOS  at time  2023-02-25 09:52:25.342458\n",
      "getting data for  ARCC  at time  2023-02-25 09:52:27.599454\n",
      "getting data for  ARNC  at time  2023-02-25 09:52:29.780475\n"
     ]
    },
    {
     "name": "stderr",
     "output_type": "stream",
     "text": [
      "C:\\Users\\richa\\AppData\\Local\\Temp\\ipykernel_308\\1674486151.py:82: FutureWarning: Behavior when concatenating bool-dtype and numeric-dtype arrays is deprecated; in a future version these will cast to object dtype (instead of coercing bools to numeric values). To retain the old behavior, explicitly cast bool-dtype arrays to numeric dtype.\n",
      "  put_ticker_options  = pd.concat([put_ticker_options,  option_data.puts],  sort = False, ignore_index = True)\n"
     ]
    },
    {
     "name": "stdout",
     "output_type": "stream",
     "text": [
      "getting data for  AVB  at time  2023-02-25 09:52:32.159540\n",
      "getting data for  AVGO  at time  2023-02-25 09:52:34.043143\n",
      "getting data for  AZO  at time  2023-02-25 09:52:38.699843\n",
      "getting data for  BA  at time  2023-02-25 09:52:42.672179\n",
      "getting data for  BAC  at time  2023-02-25 09:52:47.400601\n",
      "getting data for  BBBY  at time  2023-02-25 09:52:52.545065\n",
      "getting data for  BIIB  at time  2023-02-25 09:52:56.834517\n",
      "getting data for  BNTX  at time  2023-02-25 09:53:01.180257\n",
      "getting data for  CAG  at time  2023-02-25 09:53:05.515228\n",
      "getting data for  CAT  at time  2023-02-25 09:53:09.342086\n",
      "getting data for  CCI  at time  2023-02-25 09:53:13.752282\n"
     ]
    },
    {
     "name": "stderr",
     "output_type": "stream",
     "text": [
      "C:\\Users\\richa\\AppData\\Local\\Temp\\ipykernel_308\\1674486151.py:82: FutureWarning: Behavior when concatenating bool-dtype and numeric-dtype arrays is deprecated; in a future version these will cast to object dtype (instead of coercing bools to numeric values). To retain the old behavior, explicitly cast bool-dtype arrays to numeric dtype.\n",
      "  put_ticker_options  = pd.concat([put_ticker_options,  option_data.puts],  sort = False, ignore_index = True)\n"
     ]
    },
    {
     "name": "stdout",
     "output_type": "stream",
     "text": [
      "getting data for  CF  at time  2023-02-25 09:53:16.059625\n",
      "getting data for  CL  at time  2023-02-25 09:53:20.489224\n",
      "getting data for  CLX  at time  2023-02-25 09:53:22.713292\n"
     ]
    },
    {
     "name": "stderr",
     "output_type": "stream",
     "text": [
      "C:\\Users\\richa\\AppData\\Local\\Temp\\ipykernel_308\\1674486151.py:82: FutureWarning: Behavior when concatenating bool-dtype and numeric-dtype arrays is deprecated; in a future version these will cast to object dtype (instead of coercing bools to numeric values). To retain the old behavior, explicitly cast bool-dtype arrays to numeric dtype.\n",
      "  put_ticker_options  = pd.concat([put_ticker_options,  option_data.puts],  sort = False, ignore_index = True)\n"
     ]
    },
    {
     "name": "stdout",
     "output_type": "stream",
     "text": [
      "getting data for  CMCSA  at time  2023-02-25 09:53:26.956078\n",
      "getting data for  CRM  at time  2023-02-25 09:53:31.095072\n",
      "getting data for  CRWD  at time  2023-02-25 09:53:35.528982\n",
      "getting data for  CSCO  at time  2023-02-25 09:53:39.928475\n",
      "getting data for  CSX  at time  2023-02-25 09:53:44.721394\n",
      "getting data for  CUBE  at time  2023-02-25 09:53:48.805441\n",
      "getting data for  CVS  at time  2023-02-25 09:53:50.347941\n",
      "getting data for  CVX  at time  2023-02-25 09:53:54.757482\n",
      "getting data for  DAC  at time  2023-02-25 09:53:59.100121\n"
     ]
    },
    {
     "name": "stderr",
     "output_type": "stream",
     "text": [
      "C:\\Users\\richa\\AppData\\Local\\Temp\\ipykernel_308\\1674486151.py:81: FutureWarning: Behavior when concatenating bool-dtype and numeric-dtype arrays is deprecated; in a future version these will cast to object dtype (instead of coercing bools to numeric values). To retain the old behavior, explicitly cast bool-dtype arrays to numeric dtype.\n",
      "  call_ticker_options = pd.concat([call_ticker_options, option_data.calls], sort = False, ignore_index = True)\n"
     ]
    },
    {
     "name": "stdout",
     "output_type": "stream",
     "text": [
      "getting data for  DDOG  at time  2023-02-25 09:54:01.661209\n",
      "getting data for  DHI  at time  2023-02-25 09:54:06.000944\n",
      "getting data for  DLR  at time  2023-02-25 09:54:09.776141\n"
     ]
    },
    {
     "name": "stderr",
     "output_type": "stream",
     "text": [
      "C:\\Users\\richa\\AppData\\Local\\Temp\\ipykernel_308\\1674486151.py:81: FutureWarning: Behavior when concatenating bool-dtype and numeric-dtype arrays is deprecated; in a future version these will cast to object dtype (instead of coercing bools to numeric values). To retain the old behavior, explicitly cast bool-dtype arrays to numeric dtype.\n",
      "  call_ticker_options = pd.concat([call_ticker_options, option_data.calls], sort = False, ignore_index = True)\n"
     ]
    },
    {
     "name": "stdout",
     "output_type": "stream",
     "text": [
      "getting data for  DUK  at time  2023-02-25 09:54:12.504450\n",
      "getting data for  DVN  at time  2023-02-25 09:54:15.185401\n",
      "getting data for  EPAM  at time  2023-02-25 09:54:20.164690\n",
      "getting data for  EPD  at time  2023-02-25 09:54:22.534607\n",
      "getting data for  EPR  at time  2023-02-25 09:54:26.263533\n",
      "getting data for  ET  at time  2023-02-25 09:54:28.392814\n",
      "getting data for  EXPE  at time  2023-02-25 09:54:32.225129\n",
      "getting data for  EXR  at time  2023-02-25 09:54:36.580968\n",
      "getting data for  FAF  at time  2023-02-25 09:54:38.537777\n",
      "getting data for  FANG  at time  2023-02-25 09:54:40.269791\n",
      "getting data for  FDX  at time  2023-02-25 09:54:42.897975\n",
      "getting data for  FLNG  at time  2023-02-25 09:54:47.160635\n",
      "getting data for  FMS  at time  2023-02-25 09:54:49.315048\n",
      "getting data for  FNF  at time  2023-02-25 09:54:50.753315\n",
      "getting data for  FSLY  at time  2023-02-25 09:54:52.627467\n",
      "getting data for  FSR  at time  2023-02-25 09:54:56.927221\n",
      "getting data for  FYBR  at time  2023-02-25 09:55:00.698566\n"
     ]
    },
    {
     "name": "stderr",
     "output_type": "stream",
     "text": [
      "C:\\Users\\richa\\AppData\\Local\\Temp\\ipykernel_308\\1674486151.py:82: FutureWarning: Behavior when concatenating bool-dtype and numeric-dtype arrays is deprecated; in a future version these will cast to object dtype (instead of coercing bools to numeric values). To retain the old behavior, explicitly cast bool-dtype arrays to numeric dtype.\n",
      "  put_ticker_options  = pd.concat([put_ticker_options,  option_data.puts],  sort = False, ignore_index = True)\n"
     ]
    },
    {
     "name": "stdout",
     "output_type": "stream",
     "text": [
      "getting data for  GBX  at time  2023-02-25 09:55:03.229120\n",
      "getting data for  GD  at time  2023-02-25 09:55:04.667188\n",
      "getting data for  GIS  at time  2023-02-25 09:55:08.637986\n",
      "getting data for  GLNG  at time  2023-02-25 09:55:11.366290\n",
      "getting data for  GOOGL  at time  2023-02-25 09:55:13.686307\n",
      "getting data for  GS  at time  2023-02-25 09:55:19.403885\n",
      "getting data for  GSL  at time  2023-02-25 09:55:24.137880\n",
      "getting data for  HD  at time  2023-02-25 09:55:26.312088\n",
      "getting data for  HIW  at time  2023-02-25 09:55:31.109076\n",
      "getting data for  HON  at time  2023-02-25 09:55:32.924032\n",
      "getting data for  HR  at time  2023-02-25 09:55:36.777951\n",
      "getting data for  HRB  at time  2023-02-25 09:55:38.294331\n"
     ]
    },
    {
     "name": "stderr",
     "output_type": "stream",
     "text": [
      "C:\\Users\\richa\\AppData\\Local\\Temp\\ipykernel_308\\1674486151.py:82: FutureWarning: Behavior when concatenating bool-dtype and numeric-dtype arrays is deprecated; in a future version these will cast to object dtype (instead of coercing bools to numeric values). To retain the old behavior, explicitly cast bool-dtype arrays to numeric dtype.\n",
      "  put_ticker_options  = pd.concat([put_ticker_options,  option_data.puts],  sort = False, ignore_index = True)\n"
     ]
    },
    {
     "name": "stdout",
     "output_type": "stream",
     "text": [
      "getting data for  IBM  at time  2023-02-25 09:55:41.507094\n",
      "getting data for  INTC  at time  2023-02-25 09:55:46.682257\n",
      "getting data for  IPI  at time  2023-02-25 09:55:51.152205\n"
     ]
    },
    {
     "name": "stderr",
     "output_type": "stream",
     "text": [
      "C:\\Users\\richa\\AppData\\Local\\Temp\\ipykernel_308\\1674486151.py:81: FutureWarning: Behavior when concatenating bool-dtype and numeric-dtype arrays is deprecated; in a future version these will cast to object dtype (instead of coercing bools to numeric values). To retain the old behavior, explicitly cast bool-dtype arrays to numeric dtype.\n",
      "  call_ticker_options = pd.concat([call_ticker_options, option_data.calls], sort = False, ignore_index = True)\n"
     ]
    },
    {
     "name": "stdout",
     "output_type": "stream",
     "text": [
      "getting data for  IRM  at time  2023-02-25 09:55:52.970572\n",
      "getting data for  JNJ  at time  2023-02-25 09:55:55.286889\n",
      "getting data for  JPM  at time  2023-02-25 09:55:59.743700\n",
      "getting data for  K  at time  2023-02-25 09:56:04.033073\n",
      "getting data for  KO  at time  2023-02-25 09:56:06.320614\n",
      "getting data for  LADR  at time  2023-02-25 09:56:11.207338\n",
      "getting data for  LMT  at time  2023-02-25 09:56:12.633206\n",
      "getting data for  LOW  at time  2023-02-25 09:56:16.777498\n",
      "getting data for  LRCX  at time  2023-02-25 09:56:21.121223\n",
      "getting data for  LYB  at time  2023-02-25 09:56:25.109037\n",
      "getting data for  MA  at time  2023-02-25 09:56:27.260908\n",
      "getting data for  MAN  at time  2023-02-25 09:56:31.899637\n",
      "getting data for  MCK  at time  2023-02-25 09:56:33.299675\n"
     ]
    },
    {
     "name": "stderr",
     "output_type": "stream",
     "text": [
      "C:\\Users\\richa\\AppData\\Local\\Temp\\ipykernel_308\\1674486151.py:81: FutureWarning: Behavior when concatenating bool-dtype and numeric-dtype arrays is deprecated; in a future version these will cast to object dtype (instead of coercing bools to numeric values). To retain the old behavior, explicitly cast bool-dtype arrays to numeric dtype.\n",
      "  call_ticker_options = pd.concat([call_ticker_options, option_data.calls], sort = False, ignore_index = True)\n"
     ]
    },
    {
     "name": "stdout",
     "output_type": "stream",
     "text": [
      "getting data for  META  at time  2023-02-25 09:56:36.994498\n",
      "getting data for  MGA  at time  2023-02-25 09:56:42.954763\n",
      "getting data for  MLM  at time  2023-02-25 09:56:45.160889\n"
     ]
    },
    {
     "name": "stderr",
     "output_type": "stream",
     "text": [
      "C:\\Users\\richa\\AppData\\Local\\Temp\\ipykernel_308\\1674486151.py:81: FutureWarning: Behavior when concatenating bool-dtype and numeric-dtype arrays is deprecated; in a future version these will cast to object dtype (instead of coercing bools to numeric values). To retain the old behavior, explicitly cast bool-dtype arrays to numeric dtype.\n",
      "  call_ticker_options = pd.concat([call_ticker_options, option_data.calls], sort = False, ignore_index = True)\n"
     ]
    },
    {
     "name": "stdout",
     "output_type": "stream",
     "text": [
      "getting data for  MMM  at time  2023-02-25 09:56:47.737244\n",
      "getting data for  MMP  at time  2023-02-25 09:56:53.331966\n",
      "getting data for  MOS  at time  2023-02-25 09:56:55.500027\n",
      "getting data for  MPW  at time  2023-02-25 09:56:59.284661\n",
      "getting data for  MRK  at time  2023-02-25 09:57:02.904440\n",
      "getting data for  MRNA  at time  2023-02-25 09:57:07.347573\n",
      "getting data for  MRVL  at time  2023-02-25 09:57:11.622315\n",
      "getting data for  MSFT  at time  2023-02-25 09:57:16.374119\n",
      "getting data for  MU  at time  2023-02-25 09:57:21.553398\n",
      "getting data for  NFLX  at time  2023-02-25 09:57:25.991045\n",
      "getting data for  NKE  at time  2023-02-25 09:57:30.672584\n",
      "getting data for  NKTR  at time  2023-02-25 09:57:35.221950\n"
     ]
    },
    {
     "name": "stderr",
     "output_type": "stream",
     "text": [
      "C:\\Users\\richa\\AppData\\Local\\Temp\\ipykernel_308\\1674486151.py:82: FutureWarning: Behavior when concatenating bool-dtype and numeric-dtype arrays is deprecated; in a future version these will cast to object dtype (instead of coercing bools to numeric values). To retain the old behavior, explicitly cast bool-dtype arrays to numeric dtype.\n",
      "  put_ticker_options  = pd.concat([put_ticker_options,  option_data.puts],  sort = False, ignore_index = True)\n"
     ]
    },
    {
     "name": "stdout",
     "output_type": "stream",
     "text": [
      "getting data for  NMM  at time  2023-02-25 09:57:37.108406\n",
      "getting data for  NOW  at time  2023-02-25 09:57:39.297251\n",
      "getting data for  NRG  at time  2023-02-25 09:57:43.564516\n",
      "getting data for  NUE  at time  2023-02-25 09:57:45.806211\n",
      "getting data for  NVDA  at time  2023-02-25 09:57:49.654225\n",
      "getting data for  OKTA  at time  2023-02-25 09:57:54.756190\n",
      "getting data for  ON  at time  2023-02-25 09:57:58.814192\n",
      "getting data for  ORCC  at time  2023-02-25 09:58:03.824078\n"
     ]
    },
    {
     "name": "stderr",
     "output_type": "stream",
     "text": [
      "C:\\Users\\richa\\AppData\\Local\\Temp\\ipykernel_308\\1674486151.py:82: FutureWarning: Behavior when concatenating bool-dtype and numeric-dtype arrays is deprecated; in a future version these will cast to object dtype (instead of coercing bools to numeric values). To retain the old behavior, explicitly cast bool-dtype arrays to numeric dtype.\n",
      "  put_ticker_options  = pd.concat([put_ticker_options,  option_data.puts],  sort = False, ignore_index = True)\n"
     ]
    },
    {
     "name": "stdout",
     "output_type": "stream",
     "text": [
      "getting data for  PANW  at time  2023-02-25 09:58:06.082958\n",
      "getting data for  PFE  at time  2023-02-25 09:58:10.200833\n",
      "getting data for  PHM  at time  2023-02-25 09:58:14.604963\n",
      "getting data for  PII  at time  2023-02-25 09:58:16.797167\n",
      "getting data for  PLTR  at time  2023-02-25 09:58:19.110326\n",
      "getting data for  PRU  at time  2023-02-25 09:58:23.474185\n",
      "getting data for  PSA  at time  2023-02-25 09:58:28.459507\n",
      "getting data for  PYPL  at time  2023-02-25 09:58:30.437828\n",
      "getting data for  QCOM  at time  2023-02-25 09:58:35.205808\n",
      "getting data for  RITM  at time  2023-02-25 09:58:40.539451\n",
      "getting data for  RIVN  at time  2023-02-25 09:58:43.916439\n",
      "getting data for  ROST  at time  2023-02-25 09:58:47.925356\n",
      "getting data for  RTX  at time  2023-02-25 09:58:52.024304\n",
      "getting data for  SB  at time  2023-02-25 09:58:56.252702\n",
      "getting data for  SBLK  at time  2023-02-25 09:58:58.113774\n",
      "getting data for  SBUX  at time  2023-02-25 09:59:02.436659\n",
      "getting data for  SCHW  at time  2023-02-25 09:59:07.588787\n",
      "getting data for  SKT  at time  2023-02-25 09:59:11.623496\n",
      "getting data for  SNOW  at time  2023-02-25 09:59:13.931679\n",
      "getting data for  SO  at time  2023-02-25 09:59:18.873403\n",
      "getting data for  SPG  at time  2023-02-25 09:59:23.226038\n",
      "getting data for  SPY  at time  2023-02-25 09:59:26.269575\n",
      "getting data for  STAG  at time  2023-02-25 09:59:39.929552\n",
      "getting data for  STWD  at time  2023-02-25 09:59:41.766036\n",
      "getting data for  TSLA  at time  2023-02-25 09:59:44.129566\n",
      "getting data for  TRV  at time  2023-02-25 09:59:50.311194\n",
      "getting data for  TXN  at time  2023-02-25 09:59:52.695444\n",
      "getting data for  TSCO  at time  2023-02-25 09:59:57.370058\n",
      "getting data for  TSN  at time  2023-02-25 10:00:01.094996\n",
      "getting data for  UHAL  at time  2023-02-25 10:00:03.882166\n",
      "getting data for  UNP  at time  2023-02-25 10:00:06.243193\n",
      "getting data for  UPS  at time  2023-02-25 10:00:10.506848\n",
      "getting data for  USAC  at time  2023-02-25 10:00:14.753672\n"
     ]
    },
    {
     "name": "stderr",
     "output_type": "stream",
     "text": [
      "C:\\Users\\richa\\AppData\\Local\\Temp\\ipykernel_308\\1674486151.py:81: FutureWarning: Behavior when concatenating bool-dtype and numeric-dtype arrays is deprecated; in a future version these will cast to object dtype (instead of coercing bools to numeric values). To retain the old behavior, explicitly cast bool-dtype arrays to numeric dtype.\n",
      "  call_ticker_options = pd.concat([call_ticker_options, option_data.calls], sort = False, ignore_index = True)\n"
     ]
    },
    {
     "name": "stdout",
     "output_type": "stream",
     "text": [
      "getting data for  V  at time  2023-02-25 10:00:16.690201\n",
      "getting data for  VICI  at time  2023-02-25 10:00:20.636482\n",
      "getting data for  VGT  at time  2023-02-25 10:00:22.913545\n"
     ]
    },
    {
     "name": "stderr",
     "output_type": "stream",
     "text": [
      "C:\\Users\\richa\\AppData\\Local\\Temp\\ipykernel_308\\1674486151.py:82: FutureWarning: Behavior when concatenating bool-dtype and numeric-dtype arrays is deprecated; in a future version these will cast to object dtype (instead of coercing bools to numeric values). To retain the old behavior, explicitly cast bool-dtype arrays to numeric dtype.\n",
      "  put_ticker_options  = pd.concat([put_ticker_options,  option_data.puts],  sort = False, ignore_index = True)\n"
     ]
    },
    {
     "name": "stdout",
     "output_type": "stream",
     "text": [
      "getting data for  VMW  at time  2023-02-25 10:00:25.707178\n"
     ]
    },
    {
     "name": "stderr",
     "output_type": "stream",
     "text": [
      "C:\\Users\\richa\\AppData\\Local\\Temp\\ipykernel_308\\1674486151.py:81: FutureWarning: Behavior when concatenating bool-dtype and numeric-dtype arrays is deprecated; in a future version these will cast to object dtype (instead of coercing bools to numeric values). To retain the old behavior, explicitly cast bool-dtype arrays to numeric dtype.\n",
      "  call_ticker_options = pd.concat([call_ticker_options, option_data.calls], sort = False, ignore_index = True)\n"
     ]
    },
    {
     "name": "stdout",
     "output_type": "stream",
     "text": [
      "getting data for  VNOM  at time  2023-02-25 10:00:28.344828\n",
      "getting data for  VOO  at time  2023-02-25 10:00:30.287718\n",
      "getting data for  WMT  at time  2023-02-25 10:00:33.048537\n",
      "getting data for  WSM  at time  2023-02-25 10:00:37.463878\n",
      "getting data for  WFC  at time  2023-02-25 10:00:41.291380\n",
      "getting data for  XOM  at time  2023-02-25 10:00:46.419073\n",
      "getting data for  ZIM  at time  2023-02-25 10:00:51.209682\n",
      "getting data for  ZS  at time  2023-02-25 10:00:55.007188\n",
      "getting data for  CEG  at time  2023-02-25 10:00:59.440244\n",
      "getting data for  CMG  at time  2023-02-25 10:01:02.354235\n",
      "getting data for  LLY  at time  2023-02-25 10:01:06.760195\n",
      "getting data for  MTCH  at time  2023-02-25 10:01:11.771061\n",
      "getting data for  PGR  at time  2023-02-25 10:01:15.965266\n",
      "getting data for  SEDG  at time  2023-02-25 10:01:18.265019\n",
      "getting data for  TMUS  at time  2023-02-25 10:01:20.630370\n",
      "getting data for  URI  at time  2023-02-25 10:01:24.968411\n",
      "getting data for  AMP  at time  2023-02-25 10:01:29.067059\n"
     ]
    },
    {
     "name": "stderr",
     "output_type": "stream",
     "text": [
      "C:\\Users\\richa\\AppData\\Local\\Temp\\ipykernel_308\\1674486151.py:82: FutureWarning: Behavior when concatenating bool-dtype and numeric-dtype arrays is deprecated; in a future version these will cast to object dtype (instead of coercing bools to numeric values). To retain the old behavior, explicitly cast bool-dtype arrays to numeric dtype.\n",
      "  put_ticker_options  = pd.concat([put_ticker_options,  option_data.puts],  sort = False, ignore_index = True)\n"
     ]
    },
    {
     "name": "stdout",
     "output_type": "stream",
     "text": [
      "getting data for  EXC  at time  2023-02-25 10:01:31.499639\n"
     ]
    },
    {
     "name": "stderr",
     "output_type": "stream",
     "text": [
      "C:\\Users\\richa\\AppData\\Local\\Temp\\ipykernel_308\\1674486151.py:82: FutureWarning: Behavior when concatenating bool-dtype and numeric-dtype arrays is deprecated; in a future version these will cast to object dtype (instead of coercing bools to numeric values). To retain the old behavior, explicitly cast bool-dtype arrays to numeric dtype.\n",
      "  put_ticker_options  = pd.concat([put_ticker_options,  option_data.puts],  sort = False, ignore_index = True)\n"
     ]
    },
    {
     "name": "stdout",
     "output_type": "stream",
     "text": [
      "getting data for  PFG  at time  2023-02-25 10:01:34.142978\n",
      "getting data for  WDC  at time  2023-02-25 10:01:36.462156\n",
      "getting data for  DOCU  at time  2023-02-25 10:01:40.617568\n",
      "getting data for  ASC  at time  2023-02-25 10:01:44.589633\n"
     ]
    },
    {
     "name": "stderr",
     "output_type": "stream",
     "text": [
      "C:\\Users\\richa\\AppData\\Local\\Temp\\ipykernel_308\\1674486151.py:82: FutureWarning: Behavior when concatenating bool-dtype and numeric-dtype arrays is deprecated; in a future version these will cast to object dtype (instead of coercing bools to numeric values). To retain the old behavior, explicitly cast bool-dtype arrays to numeric dtype.\n",
      "  put_ticker_options  = pd.concat([put_ticker_options,  option_data.puts],  sort = False, ignore_index = True)\n"
     ]
    },
    {
     "name": "stdout",
     "output_type": "stream",
     "text": [
      "getting data for  VLO  at time  2023-02-25 10:01:46.441394\n",
      "getting data for  PD  at time  2023-02-25 10:01:50.473554\n",
      "getting data for  MNSO  at time  2023-02-25 10:01:53.069178\n",
      "getting data for  MOD  at time  2023-02-25 10:01:54.994655\n"
     ]
    },
    {
     "name": "stderr",
     "output_type": "stream",
     "text": [
      "C:\\Users\\richa\\AppData\\Local\\Temp\\ipykernel_308\\1674486151.py:82: FutureWarning: Behavior when concatenating bool-dtype and numeric-dtype arrays is deprecated; in a future version these will cast to object dtype (instead of coercing bools to numeric values). To retain the old behavior, explicitly cast bool-dtype arrays to numeric dtype.\n",
      "  put_ticker_options  = pd.concat([put_ticker_options,  option_data.puts],  sort = False, ignore_index = True)\n"
     ]
    },
    {
     "name": "stdout",
     "output_type": "stream",
     "text": [
      "getting data for  JXN  at time  2023-02-25 10:01:56.873694\n",
      "Got all the data for all tickers. Created additional cols. time =  2023-02-25 10:01:59.110980\n"
     ]
    }
   ],
   "source": [
    "# *****************\n",
    "# Get option data.\n",
    "#\n",
    "# 1. Get real-time price data from Darqube. Write to root_data. \n",
    "# 2. Get ER dates from Yahoo Earnings Calendar and write to root_data.\n",
    "# 3. Get option strings from yfinance. Use \"try\" statements to skip over exp dates where call to yfinance failed.\n",
    "# 4. Parse the option data fields into the common POWMax formats. \n",
    "# \n",
    "# *****************\n",
    "\n",
    "#Use Darqube for stock price data - both market and historical.\n",
    "\n",
    "root_data = pd.read_csv('root_data.csv')\n",
    "root_data.set_index('Ticker', inplace = True, drop = True)\n",
    "\n",
    "print('start Darqube access at:  ', datetime.now(), '  Done in ',len(TICKERS) * 1.0 / 60.0, ' minutes.')\n",
    "for ticker in TICKERS:\n",
    "\n",
    "    price_rqst = 'https://api.darqube.com/data-api/market_data/quote/' + ticker + '?token=' + DAR_key\n",
    "    response = requests.get(price_rqst)\n",
    "    price_dict = response.json()\n",
    "    \n",
    "    root_data.loc[ticker, 'root price'] = price_dict['price']\n",
    "\n",
    "root_data.sort_index(inplace = True) #Save root_data with updated ER dates.\n",
    "root_data.to_csv('root_data.csv')\n",
    "print(datetime.now())\n",
    "\n",
    "if update_root_data_ER:                # skip call to YEC for ER update\n",
    "    days_to_check_ER = (1, 4)  #check for ER updates when day # matches any in this list. This combo guarantees ER check on at least one date each month. \n",
    "    print('today date = ', date.today().day)\n",
    "    if date.today().day in days_to_check_ER:\n",
    "        yec_custom_delay_s = 0.1\n",
    "        yec = YahooEarningsCalendar(yec_custom_delay_s)\n",
    "        print('      Just updating ER dates.')\n",
    "\n",
    "        for ticker in TICKERS:\n",
    "            try:\n",
    "                next_er_date = (datetime.fromtimestamp(yec.get_next_earnings_date(ticker)).strftime('%Y-%m-%d %H:%M'))\n",
    "            except: \n",
    "                print(ticker, ' got retrieval error')\n",
    "            else:\n",
    "                root_data.loc[ticker, 'ER Date'] = next_er_date\n",
    "                print(ticker, root_data.loc[ticker, 'ER Date'])\n",
    "        root_data.sort_index(inplace = True) #Save root_data with updated ER dates.\n",
    "        root_data.to_csv('root_data.csv')\n",
    "\n",
    "datetoday = date.today()\n",
    "#root_data['ER daysout'] = np.where(root_data['ER Date'] != None,(root_data['ER Date'] - pdatetoday).datetime.days, NaN) # convert these to date code to subtract\n",
    "\n",
    "root_data.sort_index(inplace = True)\n",
    "root_data.to_csv('root_data.csv')\n",
    "\n",
    "if update_option_data == False: # then skip the actual data collection from the net. Just grab the all_options file and calculate good_options.\n",
    "#    read_file = 'all_options' + FILE_ID_TAG + '.csv'\n",
    "    read_file = 'all_options' + '2022-03-22' + '.csv'\n",
    "    all_options = pd.read_csv(read_file)\n",
    "    \n",
    "    print('skipped yahoo options update.')\n",
    "else:\n",
    "    for ticker in TICKERS:\n",
    "        print('getting data for ', ticker, ' at time ', datetime.now())\n",
    "        try:                                      # get option strings from yfinance for each ticker.\n",
    "                                                  # if call to yfinance fails, then just skip this expiry date.\n",
    "            ticker_data = yf.Ticker(ticker)       # get option strings from yfinance for each ticker.\n",
    "        except:\n",
    "            print('yfinance call failed for ', ticker) \n",
    "        quote_time = datetime.now() + timedelta(hours = 3)\n",
    "        quote_date = date.today()\n",
    "        expiry_dates = ticker_data.options\n",
    "        call_ticker_options = pd.DataFrame()\n",
    "        put_ticker_options  = pd.DataFrame()\n",
    "        for exp_date in expiry_dates:\n",
    "            exp_daysout = (datetime.strptime(exp_date, '%Y-%m-%d').date() - quote_date).days\n",
    "            if (exp_daysout < MAX_DAYSOUT and exp_daysout > MIN_DAYSOUT):\n",
    "                #if exp_date != '2020-04-02': #test code only. For normal operation delete this.\n",
    "                    \n",
    "                    #If doing BTOs set MAX_DAYSOUT to high number, say 1000.0.\n",
    "                    try:\n",
    "                        option_data = ticker_data.option_chain(exp_date)\n",
    "                        call_ticker_options = pd.concat([call_ticker_options, option_data.calls], sort = False, ignore_index = True)\n",
    "                        put_ticker_options  = pd.concat([put_ticker_options,  option_data.puts],  sort = False, ignore_index = True)\n",
    "                    except:\n",
    "                        print('     yfinance call failed for expiry ', exp_date)\n",
    "                    time.sleep(EXPIRY_DELAY)           \n",
    "        call_ticker_options['option_type'] = 'call'\n",
    "        put_ticker_options['option_type'] = 'put'\n",
    "\n",
    "        # calculate columns unique to each ticker        \n",
    "        ticker_options = pd.concat([call_ticker_options, put_ticker_options], sort = False, ignore_index = True)\n",
    "        ticker_options['root'] =  ticker\n",
    "        ticker_options['root price'] = root_data.loc[ticker, 'root price']\n",
    "        ticker_options['Quote_Time'] = quote_time\n",
    "        ticker_options['ER Date'] = root_data.loc[ticker, 'ER Date']\n",
    "        ticker_options['Expstring'] = '20' + ticker_options['contractSymbol'].str[len(ticker):len(ticker) + 6]\n",
    "        ticker_options['Expiry'] = ticker_options['Expstring'].str[:4] + '-' + ticker_options['Expstring'].str[4:6] + '-' + \\\n",
    "                                   ticker_options['Expstring'].str[6:8]\n",
    "        all_options = pd.concat([all_options, ticker_options], sort = False, ignore_index = True)\n",
    "\n",
    "        time.sleep(TICKER_DELAY)\n",
    "\n",
    "    print('Got all the data for all tickers. Created additional cols. time = ', datetime.now())\n"
   ]
  },
  {
   "cell_type": "code",
   "execution_count": 3,
   "id": "c03893f1",
   "metadata": {},
   "outputs": [
    {
     "name": "stdout",
     "output_type": "stream",
     "text": [
      "Wrote all_options\n"
     ]
    }
   ],
   "source": [
    "# ****************\n",
    "#\n",
    "#Calculate metrics for each option.\n",
    "#\n",
    "# *****************\n",
    "all_options['Quote_Time'] = pd.to_datetime(all_options['Quote_Time'], format = DATE_FORMAT)\n",
    "all_options['Expiry']     = pd.to_datetime(all_options['Expiry'], format = DATE_FORMAT)\n",
    "all_options['fee']        = FEE_SPREAD * (all_options['ask'] - all_options['bid']) + all_options['bid']\n",
    "all_options['daysout']    = (all_options['Expiry'] - all_options['Quote_Time']) / np.timedelta64(1,'D')\n",
    "all_options['strike']     = pd.to_numeric(all_options['strike'], errors = 'coerce')\n",
    "all_options['root price'] = pd.to_numeric(all_options['root price'], errors = 'coerce')\n",
    "#all_options['ER Date']    = pd.to_datetime(all_options['ER Date'], format = DATE_FORMAT)\n",
    "#all_options['ER daysout'] = (all_options['ER Date'] - all_options['Quote_Time']) / np.timedelta64(1,'D')\n",
    "#all_options['ER-Expiry']  = all_options['ER daysout'] - all_options['daysout']\n",
    "\n",
    "all_options['OTM']     = np.where(all_options['option_type'] == 'call', all_options['strike'] - all_options['root price'], \\\n",
    "                                  all_options['root price'] - all_options['strike'])\n",
    "\n",
    "# use np.where to calculate different ARRs based on put/call and buy/sell\n",
    "all_options['ARR']     = 100.0 * (all_options['fee'] * 365) / (all_options['daysout'] * all_options['root price'])\n",
    "all_options['PctOTM']  = 100.0 * all_options['OTM'] / all_options['root price']\n",
    "\n",
    "#all_options['TQI']     = all_options['ARR'] * all_options['PctOTM'] /10\n",
    "\n",
    "all_options['callPITM'] = 100.0 * norm.cdf(np.log(all_options['root price'] / all_options['strike']) /\n",
    "                                  (all_options['impliedVolatility'] * (all_options['daysout'] / 365)**(1/2)))\n",
    "\n",
    "all_options['POW'] = np.where(all_options['option_type'] == 'call', 100.0 - all_options['callPITM'], all_options['callPITM'])\n",
    "\n",
    "all_options['PctFee'] = 100.0 * all_options['fee'] / all_options['root price']\n",
    "all_options['BidAskSpread'] = 100.0 * (all_options['ask'] - all_options['bid']) / all_options['bid']\n",
    "all_options['impliedVolatility'] = 100.0 * all_options['impliedVolatility']\n",
    "\n",
    "write_file = 'all_options' + FILE_ID_TAG + '.csv'\n",
    "all_options.to_csv(write_file, index = False)\n",
    "print('Wrote all_options')\n",
    "\n"
   ]
  },
  {
   "cell_type": "code",
   "execution_count": 4,
   "id": "aa8fa0b0",
   "metadata": {},
   "outputs": [
    {
     "name": "stdout",
     "output_type": "stream",
     "text": [
      "Wrote best_STO. Finished at  2023-02-25 10:02:02.733351\n"
     ]
    }
   ],
   "source": [
    "#****************\n",
    "# Select best options based on selected profile.\n",
    "#*****************\n",
    "\n",
    "best_STO = all_options.copy()\n",
    "\n",
    "\n",
    "# best_STO uses POWARRMax profile\n",
    "POWmin     = 69\n",
    "POWmax     = 85\n",
    "ARRmin     = 19.\n",
    "ARRmax     = 95.\n",
    "PctOTMmin  =  4.0\n",
    "PctOTMmax  = 18.0\n",
    "PctFeemin  =  2.0\n",
    "PctFeemax  = 12.0\n",
    "daysoutmax = 55.0\n",
    "daysoutmin =  2.0\n",
    "\n",
    "\n",
    "best_STO = best_STO[(((best_STO['POW']    >= POWmin)    & (best_STO['POW']    <= POWmax))    & \n",
    "                     ((best_STO['ARR']    >= ARRmin)    & (best_STO['ARR']    <= ARRmax)))   &\n",
    "                    (((best_STO['PctFee'] >= PctFeemin) & (best_STO['PctFee'] <= PctFeemax)) & \n",
    "                     ((best_STO['PctOTM'] >= PctOTMmin) & (best_STO['PctOTM']  <= PctOTMmax)))].copy()\n",
    "\n",
    "best_STO = best_STO[(best_STO['daysout']  >= daysoutmin) & (best_STO['daysout'] <= daysoutmax)].copy() \n",
    "\n",
    "best_STO = best_STO[~best_STO['root'].isin(HIDE_TICKERS)].copy()\n",
    "\n",
    "#convert some columns to int\n",
    "\n",
    "int_columns = ['daysout', 'ARR', 'POW', 'impliedVolatility']\n",
    "best_STO[int_columns] = best_STO[int_columns].astype(int)\n",
    "                           \n",
    "# remove temporary columns in best_STO\n",
    "drop_columns = ['contractSymbol', 'inTheMoney', 'lastTradeDate', 'lastPrice', 'bid', 'ask', \\\n",
    "                'change', 'percentChange', 'callPITM', 'BidAskSpread', \\\n",
    "                'volume', 'openInterest', 'Quote_Time', 'Expstring', 'contractSize', 'currency']\n",
    "\n",
    "#Removed ER daysout and ER-Expiry from drop_columns. Putthe back after fixing the format problem.\n",
    "\n",
    "best_STO.drop(labels = drop_columns, axis = 1, inplace = True)\n",
    "\n",
    "#Sort your favorite way\n",
    "\n",
    "best_STO.sort_values(['root', 'option_type', 'POW'], ascending = [True, True, False], inplace = True)\n",
    "\n",
    "write_file = 'best_STO' + FILE_ID_TAG + '.csv'\n",
    "best_STO.to_csv(write_file, index = False, float_format = '%.2f')\n",
    "\n",
    "\n",
    "print('Wrote best_STO. Finished at ', datetime.now())\n",
    "\n",
    "# Calculate best_STO with LEAP Profile in fct below.\n",
    "# Use this fct to run all screens on all_options\n",
    "\n",
    "def run_best_STO(all_options, profile, option_screens):\n",
    "    # Set up this function to run with any screen.\n",
    "    # LEAP Profile\n",
    "    POWmin     = option_screens.loc[profile, 'POWmin']\n",
    "    POWmax     = option_screens.loc[profile, 'POWmax']\n",
    "    ARRmin     = option_screens.loc[profile, 'ARRmin']\n",
    "    ARRmax     = option_screens.loc[profile, 'ARRmax']\n",
    "    PctOTMmin  = option_screens.loc[profile, 'PctOTMmin']\n",
    "    PctOTMmax  = option_screens.loc[profile, 'PctOTMmax']\n",
    "    PctFeemin  = option_screens.loc[profile, 'PctFeemin']\n",
    "    PctFeemax  = option_screens.loc[profile, 'PctFeemax']\n",
    "    daysoutmin = option_screens.loc[profile, 'daysoutmin']\n",
    "    daysoutmax = option_screens.loc[profile, 'daysoutmax']\n",
    "\n",
    "    best_STO = all_options.copy()\n",
    "\n",
    "    best_STO = best_STO[(((best_STO['POW']    >= POWmin)    & (best_STO['POW']    <= POWmax))    &  \n",
    "                         ((best_STO['ARR']    >= ARRmin)    & (best_STO['ARR']    <= ARRmax)))   & \n",
    "                        (((best_STO['PctFee'] >= PctFeemin) & (best_STO['PctFee'] <= PctFeemax)) & \n",
    "                         ((best_STO['PctOTM'] >= PctOTMmin) & (best_STO['PctOTM'] <= PctOTMmax)))].copy()\n",
    "\n",
    "    best_STO = best_STO[(best_STO['daysout']  > daysoutmin) & (best_STO['daysout'] <= daysoutmax)].copy() \n",
    "\n",
    "    best_STO = best_STO[~best_STO['root'].isin(HIDE_TICKERS)].copy()\n",
    "\n",
    "    #convert some columns to int\n",
    "\n",
    "    int_columns = ['daysout', 'ARR', 'POW', 'impliedVolatility']\n",
    "    best_STO[int_columns] = best_STO[int_columns].astype(int)\n",
    "                           \n",
    "    # remove temporary columns in best_STO\n",
    "    drop_columns = ['contractSymbol', 'inTheMoney', 'lastTradeDate', 'lastPrice', 'bid', 'ask', \\\n",
    "                    'change', 'percentChange', 'callPITM', 'BidAskSpread', \\\n",
    "                    'volume', 'openInterest', 'Quote_Time', 'Expstring', 'contractSize', 'currency']\n",
    "\n",
    "    #Removed ER daysout and ER-Expiry from drop_columns. Put them back after fixing the format problem.\n",
    "\n",
    "    best_STO.drop(labels = drop_columns, axis = 1, inplace = True)\n",
    "\n",
    "    #Sort your favorite way\n",
    "\n",
    "    best_STO.sort_values(['root', 'option_type', 'POW'], ascending = [True, True, False], inplace = True)\n",
    "    \n",
    "    return best_STO\n",
    "\n",
    "option_screens = pd.read_file('option_screens')\n",
    "for profile in OPTION_PROFILES:\n",
    "    best_STO = run_best_STO(all_options, profile, option_screens)\n",
    "    \n",
    "    write_file = 'best_' + profile + FILE_ID_TAG + '.csv'\n",
    "    best_STO.to_csv(write_file, index = False, float_format = '%.2f')\n",
    "\n",
    "    print('wrote ', write_file)\n",
    "    \n",
    "print('Thats all, folks.')\n"
   ]
  },
  {
   "cell_type": "code",
   "execution_count": null,
   "id": "c930c6e3",
   "metadata": {},
   "outputs": [],
   "source": []
  }
 ],
 "metadata": {
  "kernelspec": {
   "display_name": "Python 3 (ipykernel)",
   "language": "python",
   "name": "python3"
  },
  "language_info": {
   "codemirror_mode": {
    "name": "ipython",
    "version": 3
   },
   "file_extension": ".py",
   "mimetype": "text/x-python",
   "name": "python",
   "nbconvert_exporter": "python",
   "pygments_lexer": "ipython3",
   "version": "3.10.8"
  }
 },
 "nbformat": 4,
 "nbformat_minor": 5
}
